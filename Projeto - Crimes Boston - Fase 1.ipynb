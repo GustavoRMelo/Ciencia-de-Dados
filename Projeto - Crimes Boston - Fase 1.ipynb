{
 "cells": [
  {
   "cell_type": "markdown",
   "metadata": {},
   "source": [
    "### Projeto - Crimes em Boston"
   ]
  },
  {
   "cell_type": "markdown",
   "metadata": {},
   "source": [
    "- __Nome:__ Gustavo Rezende Melo\n",
    "- __Disciplina:__ Mineração de Dados\n",
    "- __Projeto:__ Crimes em Boston"
   ]
  },
  {
   "cell_type": "markdown",
   "metadata": {},
   "source": [
    "## Fase 1"
   ]
  },
  {
   "cell_type": "markdown",
   "metadata": {},
   "source": [
    "### Importação das bibliotecas principais"
   ]
  },
  {
   "cell_type": "code",
   "execution_count": 1,
   "metadata": {},
   "outputs": [],
   "source": [
    "import pandas as pd\n",
    "import numpy as np\n",
    "import matplotlib.pyplot as plt\n",
    "import seaborn as sns\n",
    "import datetime as dt\n",
    "from statsmodels.stats.proportion import proportions_ztest"
   ]
  },
  {
   "cell_type": "markdown",
   "metadata": {},
   "source": [
    "### Importação da base de dados"
   ]
  },
  {
   "cell_type": "code",
   "execution_count": 2,
   "metadata": {},
   "outputs": [],
   "source": [
    "crimes = pd.read_csv('C:\\\\Users\\\\Gustavo\\\\OneDrive\\\\MBA\\\\MBA Data Science\\\\Projeto B2\\\\crimes\\\\crimes1.csv', sep=';', parse_dates=['OCCURRED_ON_DATE'])"
   ]
  },
  {
   "cell_type": "markdown",
   "metadata": {},
   "source": [
    "Vamos verificar as 5 primeiras linhas da base de dados:"
   ]
  },
  {
   "cell_type": "code",
   "execution_count": 3,
   "metadata": {},
   "outputs": [
    {
     "data": {
      "text/html": [
       "<div>\n",
       "<style scoped>\n",
       "    .dataframe tbody tr th:only-of-type {\n",
       "        vertical-align: middle;\n",
       "    }\n",
       "\n",
       "    .dataframe tbody tr th {\n",
       "        vertical-align: top;\n",
       "    }\n",
       "\n",
       "    .dataframe thead th {\n",
       "        text-align: right;\n",
       "    }\n",
       "</style>\n",
       "<table border=\"1\" class=\"dataframe\">\n",
       "  <thead>\n",
       "    <tr style=\"text-align: right;\">\n",
       "      <th></th>\n",
       "      <th>INCIDENT_NUMBER</th>\n",
       "      <th>OFFENSE_CODE</th>\n",
       "      <th>OFFENSE_CODE_GROUP</th>\n",
       "      <th>OFFENSE_DESCRIPTION</th>\n",
       "      <th>DISTRICT</th>\n",
       "      <th>REPORTING_AREA</th>\n",
       "      <th>SHOOTING</th>\n",
       "      <th>OCCURRED_ON_DATE</th>\n",
       "      <th>YEAR</th>\n",
       "      <th>MONTH</th>\n",
       "      <th>DAY_OF_WEEK</th>\n",
       "      <th>HOUR</th>\n",
       "      <th>UCR_PART</th>\n",
       "      <th>STREET</th>\n",
       "      <th>Lat</th>\n",
       "      <th>Long</th>\n",
       "      <th>Location</th>\n",
       "    </tr>\n",
       "  </thead>\n",
       "  <tbody>\n",
       "    <tr>\n",
       "      <th>0</th>\n",
       "      <td>I182070945</td>\n",
       "      <td>619</td>\n",
       "      <td>Larceny</td>\n",
       "      <td>LARCENY ALL OTHERS</td>\n",
       "      <td>D14</td>\n",
       "      <td>808</td>\n",
       "      <td>NaN</td>\n",
       "      <td>2018-09-02 13:00:00</td>\n",
       "      <td>2018</td>\n",
       "      <td>9</td>\n",
       "      <td>Sunday</td>\n",
       "      <td>13</td>\n",
       "      <td>Part One</td>\n",
       "      <td>LINCOLN ST</td>\n",
       "      <td>42.357791</td>\n",
       "      <td>-71.139371</td>\n",
       "      <td>(42.35779134, -71.13937053)</td>\n",
       "    </tr>\n",
       "    <tr>\n",
       "      <th>1</th>\n",
       "      <td>I182070943</td>\n",
       "      <td>1402</td>\n",
       "      <td>Vandalism</td>\n",
       "      <td>VANDALISM</td>\n",
       "      <td>C11</td>\n",
       "      <td>347</td>\n",
       "      <td>NaN</td>\n",
       "      <td>2018-08-21 00:00:00</td>\n",
       "      <td>2018</td>\n",
       "      <td>8</td>\n",
       "      <td>Tuesday</td>\n",
       "      <td>0</td>\n",
       "      <td>Part Two</td>\n",
       "      <td>HECLA ST</td>\n",
       "      <td>42.306821</td>\n",
       "      <td>-71.060300</td>\n",
       "      <td>(42.30682138, -71.06030035)</td>\n",
       "    </tr>\n",
       "    <tr>\n",
       "      <th>2</th>\n",
       "      <td>I182070941</td>\n",
       "      <td>3410</td>\n",
       "      <td>Towed</td>\n",
       "      <td>TOWED MOTOR VEHICLE</td>\n",
       "      <td>D4</td>\n",
       "      <td>151</td>\n",
       "      <td>NaN</td>\n",
       "      <td>2018-09-03 19:27:00</td>\n",
       "      <td>2018</td>\n",
       "      <td>9</td>\n",
       "      <td>Monday</td>\n",
       "      <td>19</td>\n",
       "      <td>Part Three</td>\n",
       "      <td>CAZENOVE ST</td>\n",
       "      <td>42.346589</td>\n",
       "      <td>-71.072429</td>\n",
       "      <td>(42.34658879, -71.07242943)</td>\n",
       "    </tr>\n",
       "    <tr>\n",
       "      <th>3</th>\n",
       "      <td>I182070940</td>\n",
       "      <td>3114</td>\n",
       "      <td>Investigate Property</td>\n",
       "      <td>INVESTIGATE PROPERTY</td>\n",
       "      <td>D4</td>\n",
       "      <td>272</td>\n",
       "      <td>NaN</td>\n",
       "      <td>2018-09-03 21:16:00</td>\n",
       "      <td>2018</td>\n",
       "      <td>9</td>\n",
       "      <td>Monday</td>\n",
       "      <td>21</td>\n",
       "      <td>Part Three</td>\n",
       "      <td>NEWCOMB ST</td>\n",
       "      <td>42.334182</td>\n",
       "      <td>-71.078664</td>\n",
       "      <td>(42.33418175, -71.07866441)</td>\n",
       "    </tr>\n",
       "    <tr>\n",
       "      <th>4</th>\n",
       "      <td>I182070938</td>\n",
       "      <td>3114</td>\n",
       "      <td>Investigate Property</td>\n",
       "      <td>INVESTIGATE PROPERTY</td>\n",
       "      <td>B3</td>\n",
       "      <td>421</td>\n",
       "      <td>NaN</td>\n",
       "      <td>2018-09-03 21:05:00</td>\n",
       "      <td>2018</td>\n",
       "      <td>9</td>\n",
       "      <td>Monday</td>\n",
       "      <td>21</td>\n",
       "      <td>Part Three</td>\n",
       "      <td>DELHI ST</td>\n",
       "      <td>42.275365</td>\n",
       "      <td>-71.090361</td>\n",
       "      <td>(42.27536542, -71.09036101)</td>\n",
       "    </tr>\n",
       "  </tbody>\n",
       "</table>\n",
       "</div>"
      ],
      "text/plain": [
       "  INCIDENT_NUMBER  OFFENSE_CODE    OFFENSE_CODE_GROUP   OFFENSE_DESCRIPTION  \\\n",
       "0      I182070945           619               Larceny    LARCENY ALL OTHERS   \n",
       "1      I182070943          1402             Vandalism             VANDALISM   \n",
       "2      I182070941          3410                 Towed   TOWED MOTOR VEHICLE   \n",
       "3      I182070940          3114  Investigate Property  INVESTIGATE PROPERTY   \n",
       "4      I182070938          3114  Investigate Property  INVESTIGATE PROPERTY   \n",
       "\n",
       "  DISTRICT REPORTING_AREA SHOOTING    OCCURRED_ON_DATE  YEAR  MONTH  \\\n",
       "0      D14            808      NaN 2018-09-02 13:00:00  2018      9   \n",
       "1      C11            347      NaN 2018-08-21 00:00:00  2018      8   \n",
       "2       D4            151      NaN 2018-09-03 19:27:00  2018      9   \n",
       "3       D4            272      NaN 2018-09-03 21:16:00  2018      9   \n",
       "4       B3            421      NaN 2018-09-03 21:05:00  2018      9   \n",
       "\n",
       "  DAY_OF_WEEK  HOUR    UCR_PART       STREET        Lat       Long  \\\n",
       "0      Sunday    13    Part One   LINCOLN ST  42.357791 -71.139371   \n",
       "1     Tuesday     0    Part Two     HECLA ST  42.306821 -71.060300   \n",
       "2      Monday    19  Part Three  CAZENOVE ST  42.346589 -71.072429   \n",
       "3      Monday    21  Part Three   NEWCOMB ST  42.334182 -71.078664   \n",
       "4      Monday    21  Part Three     DELHI ST  42.275365 -71.090361   \n",
       "\n",
       "                      Location  \n",
       "0  (42.35779134, -71.13937053)  \n",
       "1  (42.30682138, -71.06030035)  \n",
       "2  (42.34658879, -71.07242943)  \n",
       "3  (42.33418175, -71.07866441)  \n",
       "4  (42.27536542, -71.09036101)  "
      ]
     },
     "execution_count": 3,
     "metadata": {},
     "output_type": "execute_result"
    }
   ],
   "source": [
    "crimes.head()"
   ]
  },
  {
   "cell_type": "markdown",
   "metadata": {},
   "source": [
    "### Pré Processamento"
   ]
  },
  {
   "cell_type": "markdown",
   "metadata": {},
   "source": [
    "Primeiro, vamos verificar as estatísticas descritivas dos dados numéricos da base de dados. \n",
    "<br>\n",
    "<br>É importante entender quais os valores médios, máximos e mínimos dos dados porque podem ser um sinal de preenchimento errado.\n",
    "<br>\n",
    "<br>Também é importante fazer uma leitura dos dados: se a média e a mediana estão muito diferentes, pode indicar a presença de valores extremos que estão movendo a média. O desvio padrão também nos dá a informação do tanto que os valores estão longe da média."
   ]
  },
  {
   "cell_type": "code",
   "execution_count": 4,
   "metadata": {
    "scrolled": true
   },
   "outputs": [
    {
     "data": {
      "text/html": [
       "<div>\n",
       "<style scoped>\n",
       "    .dataframe tbody tr th:only-of-type {\n",
       "        vertical-align: middle;\n",
       "    }\n",
       "\n",
       "    .dataframe tbody tr th {\n",
       "        vertical-align: top;\n",
       "    }\n",
       "\n",
       "    .dataframe thead th {\n",
       "        text-align: right;\n",
       "    }\n",
       "</style>\n",
       "<table border=\"1\" class=\"dataframe\">\n",
       "  <thead>\n",
       "    <tr style=\"text-align: right;\">\n",
       "      <th></th>\n",
       "      <th>OFFENSE_CODE</th>\n",
       "      <th>YEAR</th>\n",
       "      <th>MONTH</th>\n",
       "      <th>HOUR</th>\n",
       "      <th>Lat</th>\n",
       "      <th>Long</th>\n",
       "    </tr>\n",
       "  </thead>\n",
       "  <tbody>\n",
       "    <tr>\n",
       "      <th>count</th>\n",
       "      <td>65534.000000</td>\n",
       "      <td>65534.000000</td>\n",
       "      <td>65534.000000</td>\n",
       "      <td>65534.000000</td>\n",
       "      <td>61343.000000</td>\n",
       "      <td>61343.000000</td>\n",
       "    </tr>\n",
       "    <tr>\n",
       "      <th>mean</th>\n",
       "      <td>2355.983306</td>\n",
       "      <td>2017.989334</td>\n",
       "      <td>4.747047</td>\n",
       "      <td>13.071734</td>\n",
       "      <td>42.143875</td>\n",
       "      <td>-70.795129</td>\n",
       "    </tr>\n",
       "    <tr>\n",
       "      <th>std</th>\n",
       "      <td>1175.364561</td>\n",
       "      <td>0.116900</td>\n",
       "      <td>2.334880</td>\n",
       "      <td>6.280269</td>\n",
       "      <td>2.771171</td>\n",
       "      <td>4.482805</td>\n",
       "    </tr>\n",
       "    <tr>\n",
       "      <th>min</th>\n",
       "      <td>111.000000</td>\n",
       "      <td>2015.000000</td>\n",
       "      <td>1.000000</td>\n",
       "      <td>0.000000</td>\n",
       "      <td>-1.000000</td>\n",
       "      <td>-71.178674</td>\n",
       "    </tr>\n",
       "    <tr>\n",
       "      <th>25%</th>\n",
       "      <td>1102.000000</td>\n",
       "      <td>2018.000000</td>\n",
       "      <td>3.000000</td>\n",
       "      <td>9.000000</td>\n",
       "      <td>42.296420</td>\n",
       "      <td>-71.097379</td>\n",
       "    </tr>\n",
       "    <tr>\n",
       "      <th>50%</th>\n",
       "      <td>3006.000000</td>\n",
       "      <td>2018.000000</td>\n",
       "      <td>5.000000</td>\n",
       "      <td>14.000000</td>\n",
       "      <td>42.325033</td>\n",
       "      <td>-71.077720</td>\n",
       "    </tr>\n",
       "    <tr>\n",
       "      <th>75%</th>\n",
       "      <td>3202.000000</td>\n",
       "      <td>2018.000000</td>\n",
       "      <td>7.000000</td>\n",
       "      <td>18.000000</td>\n",
       "      <td>42.348306</td>\n",
       "      <td>-71.062482</td>\n",
       "    </tr>\n",
       "    <tr>\n",
       "      <th>max</th>\n",
       "      <td>3831.000000</td>\n",
       "      <td>2018.000000</td>\n",
       "      <td>12.000000</td>\n",
       "      <td>23.000000</td>\n",
       "      <td>42.395042</td>\n",
       "      <td>-1.000000</td>\n",
       "    </tr>\n",
       "  </tbody>\n",
       "</table>\n",
       "</div>"
      ],
      "text/plain": [
       "       OFFENSE_CODE          YEAR         MONTH          HOUR           Lat  \\\n",
       "count  65534.000000  65534.000000  65534.000000  65534.000000  61343.000000   \n",
       "mean    2355.983306   2017.989334      4.747047     13.071734     42.143875   \n",
       "std     1175.364561      0.116900      2.334880      6.280269      2.771171   \n",
       "min      111.000000   2015.000000      1.000000      0.000000     -1.000000   \n",
       "25%     1102.000000   2018.000000      3.000000      9.000000     42.296420   \n",
       "50%     3006.000000   2018.000000      5.000000     14.000000     42.325033   \n",
       "75%     3202.000000   2018.000000      7.000000     18.000000     42.348306   \n",
       "max     3831.000000   2018.000000     12.000000     23.000000     42.395042   \n",
       "\n",
       "               Long  \n",
       "count  61343.000000  \n",
       "mean     -70.795129  \n",
       "std        4.482805  \n",
       "min      -71.178674  \n",
       "25%      -71.097379  \n",
       "50%      -71.077720  \n",
       "75%      -71.062482  \n",
       "max       -1.000000  "
      ]
     },
     "execution_count": 4,
     "metadata": {},
     "output_type": "execute_result"
    }
   ],
   "source": [
    "crimes.describe()"
   ]
  },
  {
   "cell_type": "markdown",
   "metadata": {},
   "source": [
    "A coluna de OFFENSE_CODE não nos traz muita informação útil. Já com as demais nos levam a pensar que: \n",
    "- A coluna de ano nos mostra que os dados estão bastante concentrados em 2018, o que vamos verificar mais abaixo.\n",
    "- A coluna de mês nos mostra que existem ocorrencias em todos os meses, mas estão centrados no mês 5. Também vamos verificar.\n",
    "- A coluna de horas nos mostra que a média está próxima da mediana, mas o desvio padrão é bem alto. Verificaremos mais a frente."
   ]
  },
  {
   "cell_type": "markdown",
   "metadata": {},
   "source": [
    "Agora, vamos verificar a quantidade de valores de cada coluna. Isso nos trará a informação se existem muitos valores NaN e como iremos tratá-los."
   ]
  },
  {
   "cell_type": "code",
   "execution_count": 5,
   "metadata": {},
   "outputs": [
    {
     "data": {
      "text/plain": [
       "INCIDENT_NUMBER        65534\n",
       "OFFENSE_CODE           65534\n",
       "OFFENSE_CODE_GROUP     65534\n",
       "OFFENSE_DESCRIPTION    65534\n",
       "DISTRICT               64970\n",
       "REPORTING_AREA         65534\n",
       "SHOOTING                 180\n",
       "OCCURRED_ON_DATE       65534\n",
       "YEAR                   65534\n",
       "MONTH                  65534\n",
       "DAY_OF_WEEK            65534\n",
       "HOUR                   65534\n",
       "UCR_PART               65519\n",
       "STREET                 64398\n",
       "Lat                    61343\n",
       "Long                   61343\n",
       "Location               65534\n",
       "dtype: int64"
      ]
     },
     "execution_count": 5,
     "metadata": {},
     "output_type": "execute_result"
    }
   ],
   "source": [
    "crimes.count()"
   ]
  },
  {
   "cell_type": "markdown",
   "metadata": {},
   "source": [
    "Vemos que temos valores faltantes de Distrito, tiroteio, UCR, nome de rua, Latitude e Longitude. Neste primeiro momento o foco será nos dados de distrito."
   ]
  },
  {
   "cell_type": "markdown",
   "metadata": {},
   "source": [
    "Acrescentando a coluna \"ID\" para enumerar as ocorrências "
   ]
  },
  {
   "cell_type": "code",
   "execution_count": 6,
   "metadata": {},
   "outputs": [],
   "source": [
    "crimes['ID']=range(1,65535)"
   ]
  },
  {
   "cell_type": "code",
   "execution_count": 7,
   "metadata": {},
   "outputs": [
    {
     "data": {
      "text/html": [
       "<div>\n",
       "<style scoped>\n",
       "    .dataframe tbody tr th:only-of-type {\n",
       "        vertical-align: middle;\n",
       "    }\n",
       "\n",
       "    .dataframe tbody tr th {\n",
       "        vertical-align: top;\n",
       "    }\n",
       "\n",
       "    .dataframe thead th {\n",
       "        text-align: right;\n",
       "    }\n",
       "</style>\n",
       "<table border=\"1\" class=\"dataframe\">\n",
       "  <thead>\n",
       "    <tr style=\"text-align: right;\">\n",
       "      <th></th>\n",
       "      <th>INCIDENT_NUMBER</th>\n",
       "      <th>OFFENSE_CODE</th>\n",
       "      <th>OFFENSE_CODE_GROUP</th>\n",
       "      <th>OFFENSE_DESCRIPTION</th>\n",
       "      <th>DISTRICT</th>\n",
       "      <th>REPORTING_AREA</th>\n",
       "      <th>SHOOTING</th>\n",
       "      <th>OCCURRED_ON_DATE</th>\n",
       "      <th>YEAR</th>\n",
       "      <th>MONTH</th>\n",
       "      <th>DAY_OF_WEEK</th>\n",
       "      <th>HOUR</th>\n",
       "      <th>UCR_PART</th>\n",
       "      <th>STREET</th>\n",
       "      <th>Lat</th>\n",
       "      <th>Long</th>\n",
       "      <th>Location</th>\n",
       "    </tr>\n",
       "    <tr>\n",
       "      <th>ID</th>\n",
       "      <th></th>\n",
       "      <th></th>\n",
       "      <th></th>\n",
       "      <th></th>\n",
       "      <th></th>\n",
       "      <th></th>\n",
       "      <th></th>\n",
       "      <th></th>\n",
       "      <th></th>\n",
       "      <th></th>\n",
       "      <th></th>\n",
       "      <th></th>\n",
       "      <th></th>\n",
       "      <th></th>\n",
       "      <th></th>\n",
       "      <th></th>\n",
       "      <th></th>\n",
       "    </tr>\n",
       "  </thead>\n",
       "  <tbody>\n",
       "    <tr>\n",
       "      <th>1</th>\n",
       "      <td>I182070945</td>\n",
       "      <td>619</td>\n",
       "      <td>Larceny</td>\n",
       "      <td>LARCENY ALL OTHERS</td>\n",
       "      <td>D14</td>\n",
       "      <td>808</td>\n",
       "      <td>NaN</td>\n",
       "      <td>2018-09-02 13:00:00</td>\n",
       "      <td>2018</td>\n",
       "      <td>9</td>\n",
       "      <td>Sunday</td>\n",
       "      <td>13</td>\n",
       "      <td>Part One</td>\n",
       "      <td>LINCOLN ST</td>\n",
       "      <td>42.357791</td>\n",
       "      <td>-71.139371</td>\n",
       "      <td>(42.35779134, -71.13937053)</td>\n",
       "    </tr>\n",
       "    <tr>\n",
       "      <th>2</th>\n",
       "      <td>I182070943</td>\n",
       "      <td>1402</td>\n",
       "      <td>Vandalism</td>\n",
       "      <td>VANDALISM</td>\n",
       "      <td>C11</td>\n",
       "      <td>347</td>\n",
       "      <td>NaN</td>\n",
       "      <td>2018-08-21 00:00:00</td>\n",
       "      <td>2018</td>\n",
       "      <td>8</td>\n",
       "      <td>Tuesday</td>\n",
       "      <td>0</td>\n",
       "      <td>Part Two</td>\n",
       "      <td>HECLA ST</td>\n",
       "      <td>42.306821</td>\n",
       "      <td>-71.060300</td>\n",
       "      <td>(42.30682138, -71.06030035)</td>\n",
       "    </tr>\n",
       "    <tr>\n",
       "      <th>3</th>\n",
       "      <td>I182070941</td>\n",
       "      <td>3410</td>\n",
       "      <td>Towed</td>\n",
       "      <td>TOWED MOTOR VEHICLE</td>\n",
       "      <td>D4</td>\n",
       "      <td>151</td>\n",
       "      <td>NaN</td>\n",
       "      <td>2018-09-03 19:27:00</td>\n",
       "      <td>2018</td>\n",
       "      <td>9</td>\n",
       "      <td>Monday</td>\n",
       "      <td>19</td>\n",
       "      <td>Part Three</td>\n",
       "      <td>CAZENOVE ST</td>\n",
       "      <td>42.346589</td>\n",
       "      <td>-71.072429</td>\n",
       "      <td>(42.34658879, -71.07242943)</td>\n",
       "    </tr>\n",
       "    <tr>\n",
       "      <th>4</th>\n",
       "      <td>I182070940</td>\n",
       "      <td>3114</td>\n",
       "      <td>Investigate Property</td>\n",
       "      <td>INVESTIGATE PROPERTY</td>\n",
       "      <td>D4</td>\n",
       "      <td>272</td>\n",
       "      <td>NaN</td>\n",
       "      <td>2018-09-03 21:16:00</td>\n",
       "      <td>2018</td>\n",
       "      <td>9</td>\n",
       "      <td>Monday</td>\n",
       "      <td>21</td>\n",
       "      <td>Part Three</td>\n",
       "      <td>NEWCOMB ST</td>\n",
       "      <td>42.334182</td>\n",
       "      <td>-71.078664</td>\n",
       "      <td>(42.33418175, -71.07866441)</td>\n",
       "    </tr>\n",
       "    <tr>\n",
       "      <th>5</th>\n",
       "      <td>I182070938</td>\n",
       "      <td>3114</td>\n",
       "      <td>Investigate Property</td>\n",
       "      <td>INVESTIGATE PROPERTY</td>\n",
       "      <td>B3</td>\n",
       "      <td>421</td>\n",
       "      <td>NaN</td>\n",
       "      <td>2018-09-03 21:05:00</td>\n",
       "      <td>2018</td>\n",
       "      <td>9</td>\n",
       "      <td>Monday</td>\n",
       "      <td>21</td>\n",
       "      <td>Part Three</td>\n",
       "      <td>DELHI ST</td>\n",
       "      <td>42.275365</td>\n",
       "      <td>-71.090361</td>\n",
       "      <td>(42.27536542, -71.09036101)</td>\n",
       "    </tr>\n",
       "    <tr>\n",
       "      <th>...</th>\n",
       "      <td>...</td>\n",
       "      <td>...</td>\n",
       "      <td>...</td>\n",
       "      <td>...</td>\n",
       "      <td>...</td>\n",
       "      <td>...</td>\n",
       "      <td>...</td>\n",
       "      <td>...</td>\n",
       "      <td>...</td>\n",
       "      <td>...</td>\n",
       "      <td>...</td>\n",
       "      <td>...</td>\n",
       "      <td>...</td>\n",
       "      <td>...</td>\n",
       "      <td>...</td>\n",
       "      <td>...</td>\n",
       "      <td>...</td>\n",
       "    </tr>\n",
       "    <tr>\n",
       "      <th>65530</th>\n",
       "      <td>I182000787</td>\n",
       "      <td>1102</td>\n",
       "      <td>Fraud</td>\n",
       "      <td>FRAUD - FALSE PRETENSE / SCHEME</td>\n",
       "      <td>A1</td>\n",
       "      <td>94</td>\n",
       "      <td>NaN</td>\n",
       "      <td>2018-01-03 19:00:00</td>\n",
       "      <td>2018</td>\n",
       "      <td>1</td>\n",
       "      <td>Wednesday</td>\n",
       "      <td>19</td>\n",
       "      <td>Part Two</td>\n",
       "      <td>CLINTON ST</td>\n",
       "      <td>42.360680</td>\n",
       "      <td>-71.054823</td>\n",
       "      <td>(42.36067984, -71.05482325)</td>\n",
       "    </tr>\n",
       "    <tr>\n",
       "      <th>65531</th>\n",
       "      <td>I182000786</td>\n",
       "      <td>3114</td>\n",
       "      <td>Investigate Property</td>\n",
       "      <td>INVESTIGATE PROPERTY</td>\n",
       "      <td>C11</td>\n",
       "      <td>461</td>\n",
       "      <td>NaN</td>\n",
       "      <td>2018-01-03 20:09:00</td>\n",
       "      <td>2018</td>\n",
       "      <td>1</td>\n",
       "      <td>Wednesday</td>\n",
       "      <td>20</td>\n",
       "      <td>Part Three</td>\n",
       "      <td>BOWDOIN AVE</td>\n",
       "      <td>42.303112</td>\n",
       "      <td>-71.077075</td>\n",
       "      <td>(42.30311230, -71.07707510)</td>\n",
       "    </tr>\n",
       "    <tr>\n",
       "      <th>65532</th>\n",
       "      <td>I182000785</td>\n",
       "      <td>3006</td>\n",
       "      <td>Medical Assistance</td>\n",
       "      <td>SICK/INJURED/MEDICAL - PERSON</td>\n",
       "      <td>C11</td>\n",
       "      <td>355</td>\n",
       "      <td>NaN</td>\n",
       "      <td>2018-01-03 19:48:00</td>\n",
       "      <td>2018</td>\n",
       "      <td>1</td>\n",
       "      <td>Wednesday</td>\n",
       "      <td>19</td>\n",
       "      <td>Part Three</td>\n",
       "      <td>ADAMS ST</td>\n",
       "      <td>42.296045</td>\n",
       "      <td>-71.056355</td>\n",
       "      <td>(42.29604546, -71.05635478)</td>\n",
       "    </tr>\n",
       "    <tr>\n",
       "      <th>65533</th>\n",
       "      <td>I182000784</td>\n",
       "      <td>3207</td>\n",
       "      <td>Property Found</td>\n",
       "      <td>PROPERTY - FOUND</td>\n",
       "      <td>B3</td>\n",
       "      <td>468</td>\n",
       "      <td>NaN</td>\n",
       "      <td>2018-01-03 20:43:00</td>\n",
       "      <td>2018</td>\n",
       "      <td>1</td>\n",
       "      <td>Wednesday</td>\n",
       "      <td>20</td>\n",
       "      <td>Part Three</td>\n",
       "      <td>BLUE HILL AVE</td>\n",
       "      <td>42.277832</td>\n",
       "      <td>-71.093555</td>\n",
       "      <td>(42.27783207, -71.09355491)</td>\n",
       "    </tr>\n",
       "    <tr>\n",
       "      <th>65534</th>\n",
       "      <td>I182000782</td>\n",
       "      <td>301</td>\n",
       "      <td>Robbery</td>\n",
       "      <td>ROBBERY - STREET</td>\n",
       "      <td>A1</td>\n",
       "      <td>101</td>\n",
       "      <td>NaN</td>\n",
       "      <td>2017-12-30 01:00:00</td>\n",
       "      <td>2017</td>\n",
       "      <td>12</td>\n",
       "      <td>Saturday</td>\n",
       "      <td>1</td>\n",
       "      <td>Part One</td>\n",
       "      <td>BROAD ST</td>\n",
       "      <td>42.359196</td>\n",
       "      <td>-71.054638</td>\n",
       "      <td>(42.35919555, -71.05463831)</td>\n",
       "    </tr>\n",
       "  </tbody>\n",
       "</table>\n",
       "<p>65534 rows × 17 columns</p>\n",
       "</div>"
      ],
      "text/plain": [
       "      INCIDENT_NUMBER  OFFENSE_CODE    OFFENSE_CODE_GROUP  \\\n",
       "ID                                                          \n",
       "1          I182070945           619               Larceny   \n",
       "2          I182070943          1402             Vandalism   \n",
       "3          I182070941          3410                 Towed   \n",
       "4          I182070940          3114  Investigate Property   \n",
       "5          I182070938          3114  Investigate Property   \n",
       "...               ...           ...                   ...   \n",
       "65530      I182000787          1102                 Fraud   \n",
       "65531      I182000786          3114  Investigate Property   \n",
       "65532      I182000785          3006    Medical Assistance   \n",
       "65533      I182000784          3207        Property Found   \n",
       "65534      I182000782           301               Robbery   \n",
       "\n",
       "                   OFFENSE_DESCRIPTION DISTRICT REPORTING_AREA SHOOTING  \\\n",
       "ID                                                                        \n",
       "1                   LARCENY ALL OTHERS      D14            808      NaN   \n",
       "2                            VANDALISM      C11            347      NaN   \n",
       "3                  TOWED MOTOR VEHICLE       D4            151      NaN   \n",
       "4                 INVESTIGATE PROPERTY       D4            272      NaN   \n",
       "5                 INVESTIGATE PROPERTY       B3            421      NaN   \n",
       "...                                ...      ...            ...      ...   \n",
       "65530  FRAUD - FALSE PRETENSE / SCHEME       A1             94      NaN   \n",
       "65531             INVESTIGATE PROPERTY      C11            461      NaN   \n",
       "65532    SICK/INJURED/MEDICAL - PERSON      C11            355      NaN   \n",
       "65533                 PROPERTY - FOUND       B3            468      NaN   \n",
       "65534                 ROBBERY - STREET       A1            101      NaN   \n",
       "\n",
       "         OCCURRED_ON_DATE  YEAR  MONTH DAY_OF_WEEK  HOUR    UCR_PART  \\\n",
       "ID                                                                     \n",
       "1     2018-09-02 13:00:00  2018      9      Sunday    13    Part One   \n",
       "2     2018-08-21 00:00:00  2018      8     Tuesday     0    Part Two   \n",
       "3     2018-09-03 19:27:00  2018      9      Monday    19  Part Three   \n",
       "4     2018-09-03 21:16:00  2018      9      Monday    21  Part Three   \n",
       "5     2018-09-03 21:05:00  2018      9      Monday    21  Part Three   \n",
       "...                   ...   ...    ...         ...   ...         ...   \n",
       "65530 2018-01-03 19:00:00  2018      1   Wednesday    19    Part Two   \n",
       "65531 2018-01-03 20:09:00  2018      1   Wednesday    20  Part Three   \n",
       "65532 2018-01-03 19:48:00  2018      1   Wednesday    19  Part Three   \n",
       "65533 2018-01-03 20:43:00  2018      1   Wednesday    20  Part Three   \n",
       "65534 2017-12-30 01:00:00  2017     12    Saturday     1    Part One   \n",
       "\n",
       "              STREET        Lat       Long                     Location  \n",
       "ID                                                                       \n",
       "1         LINCOLN ST  42.357791 -71.139371  (42.35779134, -71.13937053)  \n",
       "2           HECLA ST  42.306821 -71.060300  (42.30682138, -71.06030035)  \n",
       "3        CAZENOVE ST  42.346589 -71.072429  (42.34658879, -71.07242943)  \n",
       "4         NEWCOMB ST  42.334182 -71.078664  (42.33418175, -71.07866441)  \n",
       "5           DELHI ST  42.275365 -71.090361  (42.27536542, -71.09036101)  \n",
       "...              ...        ...        ...                          ...  \n",
       "65530     CLINTON ST  42.360680 -71.054823  (42.36067984, -71.05482325)  \n",
       "65531    BOWDOIN AVE  42.303112 -71.077075  (42.30311230, -71.07707510)  \n",
       "65532       ADAMS ST  42.296045 -71.056355  (42.29604546, -71.05635478)  \n",
       "65533  BLUE HILL AVE  42.277832 -71.093555  (42.27783207, -71.09355491)  \n",
       "65534       BROAD ST  42.359196 -71.054638  (42.35919555, -71.05463831)  \n",
       "\n",
       "[65534 rows x 17 columns]"
      ]
     },
     "execution_count": 7,
     "metadata": {},
     "output_type": "execute_result"
    }
   ],
   "source": [
    "crimes.set_index(['ID'])"
   ]
  },
  {
   "cell_type": "markdown",
   "metadata": {},
   "source": [
    "Agora, vamos verificar todos os valores que aparecem na coluna \"DISTRICT\"."
   ]
  },
  {
   "cell_type": "code",
   "execution_count": 8,
   "metadata": {},
   "outputs": [],
   "source": [
    "distrito = crimes['DISTRICT'].unique()"
   ]
  },
  {
   "cell_type": "code",
   "execution_count": 9,
   "metadata": {},
   "outputs": [
    {
     "data": {
      "text/plain": [
       "array(['D14', 'C11', 'D4', 'B3', 'B2', 'C6', nan, 'A1', 'E5', 'A7', 'E13',\n",
       "       'E18', 'A15'], dtype=object)"
      ]
     },
     "execution_count": 9,
     "metadata": {},
     "output_type": "execute_result"
    }
   ],
   "source": [
    "distrito"
   ]
  },
  {
   "cell_type": "markdown",
   "metadata": {},
   "source": [
    "Como temos valores \"nan\", vamos substitui-los por \"Undefined\" para serem contados."
   ]
  },
  {
   "cell_type": "code",
   "execution_count": 10,
   "metadata": {},
   "outputs": [
    {
     "data": {
      "text/plain": [
       "INCIDENT_NUMBER        65534\n",
       "OFFENSE_CODE           65534\n",
       "OFFENSE_CODE_GROUP     65534\n",
       "OFFENSE_DESCRIPTION    65534\n",
       "DISTRICT               64970\n",
       "REPORTING_AREA         65534\n",
       "SHOOTING                 180\n",
       "OCCURRED_ON_DATE       65534\n",
       "YEAR                   65534\n",
       "MONTH                  65534\n",
       "DAY_OF_WEEK            65534\n",
       "HOUR                   65534\n",
       "UCR_PART               65519\n",
       "STREET                 64398\n",
       "Lat                    61343\n",
       "Long                   61343\n",
       "Location               65534\n",
       "ID                     65534\n",
       "dtype: int64"
      ]
     },
     "execution_count": 10,
     "metadata": {},
     "output_type": "execute_result"
    }
   ],
   "source": [
    "crimes.count()"
   ]
  },
  {
   "cell_type": "code",
   "execution_count": 11,
   "metadata": {},
   "outputs": [],
   "source": [
    "crimes['DISTRICT'].fillna('Undefined',inplace=True)"
   ]
  },
  {
   "cell_type": "code",
   "execution_count": 12,
   "metadata": {},
   "outputs": [],
   "source": [
    "distrito = crimes['DISTRICT'].unique()"
   ]
  },
  {
   "cell_type": "code",
   "execution_count": 13,
   "metadata": {},
   "outputs": [
    {
     "data": {
      "text/plain": [
       "array(['D14', 'C11', 'D4', 'B3', 'B2', 'C6', 'Undefined', 'A1', 'E5',\n",
       "       'A7', 'E13', 'E18', 'A15'], dtype=object)"
      ]
     },
     "execution_count": 13,
     "metadata": {},
     "output_type": "execute_result"
    }
   ],
   "source": [
    "distrito"
   ]
  },
  {
   "cell_type": "code",
   "execution_count": 14,
   "metadata": {},
   "outputs": [
    {
     "data": {
      "text/plain": [
       "INCIDENT_NUMBER        65534\n",
       "OFFENSE_CODE           65534\n",
       "OFFENSE_CODE_GROUP     65534\n",
       "OFFENSE_DESCRIPTION    65534\n",
       "DISTRICT               65534\n",
       "REPORTING_AREA         65534\n",
       "SHOOTING                 180\n",
       "OCCURRED_ON_DATE       65534\n",
       "YEAR                   65534\n",
       "MONTH                  65534\n",
       "DAY_OF_WEEK            65534\n",
       "HOUR                   65534\n",
       "UCR_PART               65519\n",
       "STREET                 64398\n",
       "Lat                    61343\n",
       "Long                   61343\n",
       "Location               65534\n",
       "ID                     65534\n",
       "dtype: int64"
      ]
     },
     "execution_count": 14,
     "metadata": {},
     "output_type": "execute_result"
    }
   ],
   "source": [
    "crimes.count()"
   ]
  },
  {
   "cell_type": "markdown",
   "metadata": {},
   "source": [
    "Podemos observar que agora os valores que eram \"nan\" agora aparecem como \"Undefined\" e o valor das contagens de distrito é igual ao valor de entradas. O próximo passo é contar quantas vezes cada distrito aparece."
   ]
  },
  {
   "cell_type": "code",
   "execution_count": 15,
   "metadata": {},
   "outputs": [],
   "source": [
    "conta_distrito=[]\n",
    "for distritos in distrito:\n",
    "    conta_distrito.append(crimes[crimes['DISTRICT']==distritos].count()['ID'])"
   ]
  },
  {
   "cell_type": "code",
   "execution_count": 16,
   "metadata": {},
   "outputs": [
    {
     "data": {
      "text/plain": [
       "[4060, 8275, 8597, 7446, 9823, 5192, 564, 7354, 2778, 2712, 3628, 3783, 1322]"
      ]
     },
     "execution_count": 16,
     "metadata": {},
     "output_type": "execute_result"
    }
   ],
   "source": [
    "conta_distrito"
   ]
  },
  {
   "cell_type": "markdown",
   "metadata": {},
   "source": [
    "Gerando um gráfico e ordenando os valores do maior para o menor, temos:"
   ]
  },
  {
   "cell_type": "code",
   "execution_count": 17,
   "metadata": {},
   "outputs": [
    {
     "data": {
      "text/plain": [
       "<matplotlib.axes._subplots.AxesSubplot at 0x1662a915508>"
      ]
     },
     "execution_count": 17,
     "metadata": {},
     "output_type": "execute_result"
    },
    {
     "data": {
      "image/png": "[encoded data removed]",
      "text/plain": [
       "<Figure size 2160x1080 with 1 Axes>"
      ]
     },
     "metadata": {
      "needs_background": "light"
     },
     "output_type": "display_data"
    }
   ],
   "source": [
    "grafico1=pd.DataFrame(distrito,columns=['DISTRICT'])\n",
    "grafico1['conta_distrito']=conta_distrito\n",
    "grafico1 = grafico1.sort_values(['conta_distrito'], ascending=False)\n",
    "plt.figure(figsize=(30,15))\n",
    "sns.barplot(grafico1.DISTRICT, grafico1.conta_distrito)"
   ]
  },
  {
   "cell_type": "markdown",
   "metadata": {},
   "source": [
    "Vamos agora fazer as verificações das distribuições dos dados nos anos, meses, dias da semana e horas."
   ]
  },
  {
   "cell_type": "code",
   "execution_count": 18,
   "metadata": {},
   "outputs": [],
   "source": [
    "anos= crimes['YEAR'].unique()"
   ]
  },
  {
   "cell_type": "code",
   "execution_count": 19,
   "metadata": {},
   "outputs": [
    {
     "data": {
      "text/plain": [
       "array([2018, 2017, 2016, 2015], dtype=int64)"
      ]
     },
     "execution_count": 19,
     "metadata": {},
     "output_type": "execute_result"
    }
   ],
   "source": [
    "anos"
   ]
  },
  {
   "cell_type": "code",
   "execution_count": 20,
   "metadata": {},
   "outputs": [],
   "source": [
    "conta_anos=[]\n",
    "for ano in anos:\n",
    "    conta_anos.append(crimes[crimes['YEAR']==ano].count()['ID'])"
   ]
  },
  {
   "cell_type": "code",
   "execution_count": 21,
   "metadata": {},
   "outputs": [
    {
     "data": {
      "text/plain": [
       "[64921, 543, 54, 16]"
      ]
     },
     "execution_count": 21,
     "metadata": {},
     "output_type": "execute_result"
    }
   ],
   "source": [
    "conta_anos"
   ]
  },
  {
   "cell_type": "markdown",
   "metadata": {},
   "source": [
    "Observamos que nos anos de 2015, 2016 e 2017 a quantidade de dados é significativamente menor que em 2018. Pode ser razoável trabalhar apenas com os dados de 2018.\n",
    "<br>Vamos agora verificar como está a distribuição pelos meses."
   ]
  },
  {
   "cell_type": "code",
   "execution_count": 22,
   "metadata": {},
   "outputs": [],
   "source": [
    "meses=crimes['MONTH'].unique()"
   ]
  },
  {
   "cell_type": "code",
   "execution_count": 23,
   "metadata": {},
   "outputs": [],
   "source": [
    "meses=np.sort(meses)"
   ]
  },
  {
   "cell_type": "code",
   "execution_count": 24,
   "metadata": {},
   "outputs": [
    {
     "data": {
      "text/plain": [
       "array([ 1,  2,  3,  4,  5,  6,  7,  8,  9, 10, 11, 12], dtype=int64)"
      ]
     },
     "execution_count": 24,
     "metadata": {},
     "output_type": "execute_result"
    }
   ],
   "source": [
    "meses"
   ]
  },
  {
   "cell_type": "code",
   "execution_count": 25,
   "metadata": {},
   "outputs": [],
   "source": [
    "conta_mes=[]\n",
    "for mes in meses:\n",
    "    conta_mes.append(crimes[crimes['MONTH']==mes].count()['ID'])"
   ]
  },
  {
   "cell_type": "code",
   "execution_count": 26,
   "metadata": {},
   "outputs": [
    {
     "data": {
      "text/plain": [
       "[7174, 6934, 7733, 7920, 8918, 8852, 8551, 8358, 718, 75, 75, 226]"
      ]
     },
     "execution_count": 26,
     "metadata": {},
     "output_type": "execute_result"
    }
   ],
   "source": [
    "conta_mes"
   ]
  },
  {
   "cell_type": "markdown",
   "metadata": {},
   "source": [
    "Vemos que os meses 9, 10, 11 e 12 possuem significativamente menos dados que os demais. A análise mais detalhada será feita para o distrito B2.\n",
    "<br>Vamos verificar agora a distribuição pelos dias da semana."
   ]
  },
  {
   "cell_type": "code",
   "execution_count": 27,
   "metadata": {},
   "outputs": [],
   "source": [
    "dias_semana=crimes['DAY_OF_WEEK'].unique()"
   ]
  },
  {
   "cell_type": "code",
   "execution_count": 28,
   "metadata": {},
   "outputs": [
    {
     "data": {
      "text/plain": [
       "array(['Sunday', 'Tuesday', 'Monday', 'Saturday', 'Friday', 'Wednesday',\n",
       "       'Thursday'], dtype=object)"
      ]
     },
     "execution_count": 28,
     "metadata": {},
     "output_type": "execute_result"
    }
   ],
   "source": [
    "dias_semana"
   ]
  },
  {
   "cell_type": "code",
   "execution_count": 29,
   "metadata": {},
   "outputs": [],
   "source": [
    "conta_dia=[]\n",
    "for dia in dias_semana:\n",
    "    conta_dia.append(crimes[crimes['DAY_OF_WEEK']==dia].count()['ID'])"
   ]
  },
  {
   "cell_type": "code",
   "execution_count": 30,
   "metadata": {},
   "outputs": [
    {
     "data": {
      "text/plain": [
       "[8226, 9400, 9351, 9279, 10037, 9504, 9737]"
      ]
     },
     "execution_count": 30,
     "metadata": {},
     "output_type": "execute_result"
    }
   ],
   "source": [
    "conta_dia"
   ]
  },
  {
   "cell_type": "markdown",
   "metadata": {},
   "source": [
    "Os dados pelos dias da semana parecem estar bem distribuidos. A análise mais detalhada será feita para o distrito B2.\n",
    "<br>Vamos verificar a distribuição das horas. "
   ]
  },
  {
   "cell_type": "code",
   "execution_count": 31,
   "metadata": {},
   "outputs": [
    {
     "data": {
      "image/png": "[encoded data removed]",
      "text/plain": [
       "<Figure size 432x288 with 1 Axes>"
      ]
     },
     "metadata": {
      "needs_background": "light"
     },
     "output_type": "display_data"
    }
   ],
   "source": [
    "num_bins = 24\n",
    "n, bins, patches = plt.hist(crimes['HOUR'], num_bins, facecolor='blue', alpha=0.5)\n",
    "plt.show()"
   ]
  },
  {
   "cell_type": "markdown",
   "metadata": {},
   "source": [
    "Aparentemente, os dados estão bem distribuidos. Será feita uma análise mais detalhada para os dados do distrito B2."
   ]
  },
  {
   "cell_type": "markdown",
   "metadata": {},
   "source": [
    "A partir de agora a análise será feita apenas para os dados do distrito B2. Vamos filtrar a base de dados para o distrito B2, atribuir ao dataframe crimesB2, contar os valores para ver quantos dados faltantes temos e ver as estatísticas descritivas para verificar os valores."
   ]
  },
  {
   "cell_type": "code",
   "execution_count": 32,
   "metadata": {},
   "outputs": [],
   "source": [
    "crimesB2inic=crimes[crimes['DISTRICT']=='B2']"
   ]
  },
  {
   "cell_type": "code",
   "execution_count": 33,
   "metadata": {},
   "outputs": [
    {
     "data": {
      "text/plain": [
       "INCIDENT_NUMBER        9823\n",
       "OFFENSE_CODE           9823\n",
       "OFFENSE_CODE_GROUP     9823\n",
       "OFFENSE_DESCRIPTION    9823\n",
       "DISTRICT               9823\n",
       "REPORTING_AREA         9823\n",
       "SHOOTING                 66\n",
       "OCCURRED_ON_DATE       9823\n",
       "YEAR                   9823\n",
       "MONTH                  9823\n",
       "DAY_OF_WEEK            9823\n",
       "HOUR                   9823\n",
       "UCR_PART               9818\n",
       "STREET                 9697\n",
       "Lat                    9096\n",
       "Long                   9096\n",
       "Location               9823\n",
       "ID                     9823\n",
       "dtype: int64"
      ]
     },
     "execution_count": 33,
     "metadata": {},
     "output_type": "execute_result"
    }
   ],
   "source": [
    "crimesB2inic.count()"
   ]
  },
  {
   "cell_type": "code",
   "execution_count": 34,
   "metadata": {},
   "outputs": [
    {
     "data": {
      "text/html": [
       "<div>\n",
       "<style scoped>\n",
       "    .dataframe tbody tr th:only-of-type {\n",
       "        vertical-align: middle;\n",
       "    }\n",
       "\n",
       "    .dataframe tbody tr th {\n",
       "        vertical-align: top;\n",
       "    }\n",
       "\n",
       "    .dataframe thead th {\n",
       "        text-align: right;\n",
       "    }\n",
       "</style>\n",
       "<table border=\"1\" class=\"dataframe\">\n",
       "  <thead>\n",
       "    <tr style=\"text-align: right;\">\n",
       "      <th></th>\n",
       "      <th>OFFENSE_CODE</th>\n",
       "      <th>YEAR</th>\n",
       "      <th>MONTH</th>\n",
       "      <th>HOUR</th>\n",
       "      <th>Lat</th>\n",
       "      <th>Long</th>\n",
       "      <th>ID</th>\n",
       "    </tr>\n",
       "  </thead>\n",
       "  <tbody>\n",
       "    <tr>\n",
       "      <th>count</th>\n",
       "      <td>9823.000000</td>\n",
       "      <td>9823.000000</td>\n",
       "      <td>9823.000000</td>\n",
       "      <td>9823.000000</td>\n",
       "      <td>9096.000000</td>\n",
       "      <td>9096.000000</td>\n",
       "      <td>9823.000000</td>\n",
       "    </tr>\n",
       "    <tr>\n",
       "      <th>mean</th>\n",
       "      <td>2404.181615</td>\n",
       "      <td>2017.994299</td>\n",
       "      <td>4.709559</td>\n",
       "      <td>13.193933</td>\n",
       "      <td>42.316821</td>\n",
       "      <td>-71.076625</td>\n",
       "      <td>32937.917948</td>\n",
       "    </tr>\n",
       "    <tr>\n",
       "      <th>std</th>\n",
       "      <td>1158.172349</td>\n",
       "      <td>0.080520</td>\n",
       "      <td>2.303406</td>\n",
       "      <td>6.335650</td>\n",
       "      <td>0.454324</td>\n",
       "      <td>0.734918</td>\n",
       "      <td>18858.363718</td>\n",
       "    </tr>\n",
       "    <tr>\n",
       "      <th>min</th>\n",
       "      <td>111.000000</td>\n",
       "      <td>2015.000000</td>\n",
       "      <td>1.000000</td>\n",
       "      <td>0.000000</td>\n",
       "      <td>-1.000000</td>\n",
       "      <td>-71.112843</td>\n",
       "      <td>7.000000</td>\n",
       "    </tr>\n",
       "    <tr>\n",
       "      <th>25%</th>\n",
       "      <td>1304.000000</td>\n",
       "      <td>2018.000000</td>\n",
       "      <td>3.000000</td>\n",
       "      <td>9.000000</td>\n",
       "      <td>42.314287</td>\n",
       "      <td>-71.090495</td>\n",
       "      <td>16657.000000</td>\n",
       "    </tr>\n",
       "    <tr>\n",
       "      <th>50%</th>\n",
       "      <td>3006.000000</td>\n",
       "      <td>2018.000000</td>\n",
       "      <td>5.000000</td>\n",
       "      <td>14.000000</td>\n",
       "      <td>42.321300</td>\n",
       "      <td>-71.083592</td>\n",
       "      <td>33241.000000</td>\n",
       "    </tr>\n",
       "    <tr>\n",
       "      <th>75%</th>\n",
       "      <td>3301.000000</td>\n",
       "      <td>2018.000000</td>\n",
       "      <td>7.000000</td>\n",
       "      <td>18.000000</td>\n",
       "      <td>42.329326</td>\n",
       "      <td>-71.077220</td>\n",
       "      <td>49104.000000</td>\n",
       "    </tr>\n",
       "    <tr>\n",
       "      <th>max</th>\n",
       "      <td>3831.000000</td>\n",
       "      <td>2018.000000</td>\n",
       "      <td>12.000000</td>\n",
       "      <td>23.000000</td>\n",
       "      <td>42.392146</td>\n",
       "      <td>-1.000000</td>\n",
       "      <td>65523.000000</td>\n",
       "    </tr>\n",
       "  </tbody>\n",
       "</table>\n",
       "</div>"
      ],
      "text/plain": [
       "       OFFENSE_CODE         YEAR        MONTH         HOUR          Lat  \\\n",
       "count   9823.000000  9823.000000  9823.000000  9823.000000  9096.000000   \n",
       "mean    2404.181615  2017.994299     4.709559    13.193933    42.316821   \n",
       "std     1158.172349     0.080520     2.303406     6.335650     0.454324   \n",
       "min      111.000000  2015.000000     1.000000     0.000000    -1.000000   \n",
       "25%     1304.000000  2018.000000     3.000000     9.000000    42.314287   \n",
       "50%     3006.000000  2018.000000     5.000000    14.000000    42.321300   \n",
       "75%     3301.000000  2018.000000     7.000000    18.000000    42.329326   \n",
       "max     3831.000000  2018.000000    12.000000    23.000000    42.392146   \n",
       "\n",
       "              Long            ID  \n",
       "count  9096.000000   9823.000000  \n",
       "mean    -71.076625  32937.917948  \n",
       "std       0.734918  18858.363718  \n",
       "min     -71.112843      7.000000  \n",
       "25%     -71.090495  16657.000000  \n",
       "50%     -71.083592  33241.000000  \n",
       "75%     -71.077220  49104.000000  \n",
       "max      -1.000000  65523.000000  "
      ]
     },
     "execution_count": 34,
     "metadata": {},
     "output_type": "execute_result"
    }
   ],
   "source": [
    "crimesB2inic.describe()"
   ]
  },
  {
   "cell_type": "markdown",
   "metadata": {},
   "source": [
    "Vemos que a quantidade de dados faltantes quando comparada ao total de dados é pequena, o que permite que apenas excluamos esses valores faltantes. Vamos também substituir os valores -1 da latitude e longitude para NaN para excluí-los também, por serem dados inválidos."
   ]
  },
  {
   "cell_type": "code",
   "execution_count": 35,
   "metadata": {},
   "outputs": [],
   "source": [
    "crimesB2inic['Lat'].replace(-1,None, inplace=True)"
   ]
  },
  {
   "cell_type": "code",
   "execution_count": 36,
   "metadata": {},
   "outputs": [],
   "source": [
    "crimesB2inic['Long'].replace(-1,None, inplace=True)"
   ]
  },
  {
   "cell_type": "code",
   "execution_count": 37,
   "metadata": {},
   "outputs": [
    {
     "data": {
      "text/html": [
       "<div>\n",
       "<style scoped>\n",
       "    .dataframe tbody tr th:only-of-type {\n",
       "        vertical-align: middle;\n",
       "    }\n",
       "\n",
       "    .dataframe tbody tr th {\n",
       "        vertical-align: top;\n",
       "    }\n",
       "\n",
       "    .dataframe thead th {\n",
       "        text-align: right;\n",
       "    }\n",
       "</style>\n",
       "<table border=\"1\" class=\"dataframe\">\n",
       "  <thead>\n",
       "    <tr style=\"text-align: right;\">\n",
       "      <th></th>\n",
       "      <th>OFFENSE_CODE</th>\n",
       "      <th>YEAR</th>\n",
       "      <th>MONTH</th>\n",
       "      <th>HOUR</th>\n",
       "      <th>Lat</th>\n",
       "      <th>Long</th>\n",
       "      <th>ID</th>\n",
       "    </tr>\n",
       "  </thead>\n",
       "  <tbody>\n",
       "    <tr>\n",
       "      <th>count</th>\n",
       "      <td>9823.000000</td>\n",
       "      <td>9823.000000</td>\n",
       "      <td>9823.000000</td>\n",
       "      <td>9823.000000</td>\n",
       "      <td>9096.000000</td>\n",
       "      <td>9096.000000</td>\n",
       "      <td>9823.000000</td>\n",
       "    </tr>\n",
       "    <tr>\n",
       "      <th>mean</th>\n",
       "      <td>2404.181615</td>\n",
       "      <td>2017.994299</td>\n",
       "      <td>4.709559</td>\n",
       "      <td>13.193933</td>\n",
       "      <td>42.321583</td>\n",
       "      <td>-71.084329</td>\n",
       "      <td>32937.917948</td>\n",
       "    </tr>\n",
       "    <tr>\n",
       "      <th>std</th>\n",
       "      <td>1158.172349</td>\n",
       "      <td>0.080520</td>\n",
       "      <td>2.303406</td>\n",
       "      <td>6.335650</td>\n",
       "      <td>0.009068</td>\n",
       "      <td>0.010392</td>\n",
       "      <td>18858.363718</td>\n",
       "    </tr>\n",
       "    <tr>\n",
       "      <th>min</th>\n",
       "      <td>111.000000</td>\n",
       "      <td>2015.000000</td>\n",
       "      <td>1.000000</td>\n",
       "      <td>0.000000</td>\n",
       "      <td>42.283405</td>\n",
       "      <td>-71.112843</td>\n",
       "      <td>7.000000</td>\n",
       "    </tr>\n",
       "    <tr>\n",
       "      <th>25%</th>\n",
       "      <td>1304.000000</td>\n",
       "      <td>2018.000000</td>\n",
       "      <td>3.000000</td>\n",
       "      <td>9.000000</td>\n",
       "      <td>42.314287</td>\n",
       "      <td>-71.090495</td>\n",
       "      <td>16657.000000</td>\n",
       "    </tr>\n",
       "    <tr>\n",
       "      <th>50%</th>\n",
       "      <td>3006.000000</td>\n",
       "      <td>2018.000000</td>\n",
       "      <td>5.000000</td>\n",
       "      <td>14.000000</td>\n",
       "      <td>42.321300</td>\n",
       "      <td>-71.083592</td>\n",
       "      <td>33241.000000</td>\n",
       "    </tr>\n",
       "    <tr>\n",
       "      <th>75%</th>\n",
       "      <td>3301.000000</td>\n",
       "      <td>2018.000000</td>\n",
       "      <td>7.000000</td>\n",
       "      <td>18.000000</td>\n",
       "      <td>42.329326</td>\n",
       "      <td>-71.077240</td>\n",
       "      <td>49104.000000</td>\n",
       "    </tr>\n",
       "    <tr>\n",
       "      <th>max</th>\n",
       "      <td>3831.000000</td>\n",
       "      <td>2018.000000</td>\n",
       "      <td>12.000000</td>\n",
       "      <td>23.000000</td>\n",
       "      <td>42.392146</td>\n",
       "      <td>-71.008939</td>\n",
       "      <td>65523.000000</td>\n",
       "    </tr>\n",
       "  </tbody>\n",
       "</table>\n",
       "</div>"
      ],
      "text/plain": [
       "       OFFENSE_CODE         YEAR        MONTH         HOUR          Lat  \\\n",
       "count   9823.000000  9823.000000  9823.000000  9823.000000  9096.000000   \n",
       "mean    2404.181615  2017.994299     4.709559    13.193933    42.321583   \n",
       "std     1158.172349     0.080520     2.303406     6.335650     0.009068   \n",
       "min      111.000000  2015.000000     1.000000     0.000000    42.283405   \n",
       "25%     1304.000000  2018.000000     3.000000     9.000000    42.314287   \n",
       "50%     3006.000000  2018.000000     5.000000    14.000000    42.321300   \n",
       "75%     3301.000000  2018.000000     7.000000    18.000000    42.329326   \n",
       "max     3831.000000  2018.000000    12.000000    23.000000    42.392146   \n",
       "\n",
       "              Long            ID  \n",
       "count  9096.000000   9823.000000  \n",
       "mean    -71.084329  32937.917948  \n",
       "std       0.010392  18858.363718  \n",
       "min     -71.112843      7.000000  \n",
       "25%     -71.090495  16657.000000  \n",
       "50%     -71.083592  33241.000000  \n",
       "75%     -71.077240  49104.000000  \n",
       "max     -71.008939  65523.000000  "
      ]
     },
     "execution_count": 37,
     "metadata": {},
     "output_type": "execute_result"
    }
   ],
   "source": [
    "crimesB2inic.describe()"
   ]
  },
  {
   "cell_type": "code",
   "execution_count": 38,
   "metadata": {},
   "outputs": [],
   "source": [
    "crimesB2=crimesB2inic.dropna(subset=['UCR_PART','Lat','Long'])"
   ]
  },
  {
   "cell_type": "code",
   "execution_count": 39,
   "metadata": {},
   "outputs": [
    {
     "data": {
      "text/plain": [
       "INCIDENT_NUMBER        9091\n",
       "OFFENSE_CODE           9091\n",
       "OFFENSE_CODE_GROUP     9091\n",
       "OFFENSE_DESCRIPTION    9091\n",
       "DISTRICT               9091\n",
       "REPORTING_AREA         9091\n",
       "SHOOTING                 64\n",
       "OCCURRED_ON_DATE       9091\n",
       "YEAR                   9091\n",
       "MONTH                  9091\n",
       "DAY_OF_WEEK            9091\n",
       "HOUR                   9091\n",
       "UCR_PART               9091\n",
       "STREET                 9054\n",
       "Lat                    9091\n",
       "Long                   9091\n",
       "Location               9091\n",
       "ID                     9091\n",
       "dtype: int64"
      ]
     },
     "execution_count": 39,
     "metadata": {},
     "output_type": "execute_result"
    }
   ],
   "source": [
    "crimesB2.count()"
   ]
  },
  {
   "cell_type": "markdown",
   "metadata": {},
   "source": [
    "Após o tratamento dos dados vemos que as informações de rua possuem valores faltantes, mas como temos as informações de latitude e longitude esses dados da rua não serão utilizados."
   ]
  },
  {
   "cell_type": "markdown",
   "metadata": {},
   "source": [
    "Vamos iniciar vendo como os dados estão distribuidos pelos anos."
   ]
  },
  {
   "cell_type": "code",
   "execution_count": 40,
   "metadata": {},
   "outputs": [],
   "source": [
    "anosB2=crimesB2['YEAR'].unique()"
   ]
  },
  {
   "cell_type": "code",
   "execution_count": 41,
   "metadata": {},
   "outputs": [
    {
     "data": {
      "text/plain": [
       "<BarContainer object of 4 artists>"
      ]
     },
     "execution_count": 41,
     "metadata": {},
     "output_type": "execute_result"
    },
    {
     "data": {
      "image/png": "[encoded data removed]",
      "text/plain": [
       "<Figure size 720x360 with 1 Axes>"
      ]
     },
     "metadata": {
      "needs_background": "light"
     },
     "output_type": "display_data"
    }
   ],
   "source": [
    "conta_anosB2=[]\n",
    "for ano in anosB2:\n",
    "    conta_anosB2.append(crimesB2[crimesB2['YEAR']==ano].count()['ID'])\n",
    "plt.figure(figsize=(10,5))\n",
    "plt.xticks(anosB2)\n",
    "plt.bar(anosB2,conta_anosB2)"
   ]
  },
  {
   "cell_type": "markdown",
   "metadata": {
    "scrolled": true
   },
   "source": [
    "Os dados estão bastante concentrados em 2018. O próximo passo é ver como os crimes se distribuem pelos meses."
   ]
  },
  {
   "cell_type": "code",
   "execution_count": 42,
   "metadata": {},
   "outputs": [
    {
     "data": {
      "text/plain": [
       "<BarContainer object of 12 artists>"
      ]
     },
     "execution_count": 42,
     "metadata": {},
     "output_type": "execute_result"
    },
    {
     "data": {
      "image/png": "[encoded data removed]",
      "text/plain": [
       "<Figure size 720x360 with 1 Axes>"
      ]
     },
     "metadata": {
      "needs_background": "light"
     },
     "output_type": "display_data"
    }
   ],
   "source": [
    "meses=list(range(1,13))\n",
    "conta_meses=[]\n",
    "for mes in meses:\n",
    "    conta_meses.append(crimesB2[crimesB2['MONTH']==mes].count()['ID'])\n",
    "plt.figure(figsize=(10,5))\n",
    "plt.xticks(list(range(1,13)))\n",
    "plt.bar(meses,conta_meses)"
   ]
  },
  {
   "cell_type": "markdown",
   "metadata": {},
   "source": [
    "Sendo 2018 o ano que mais temos dados, vamos verificar se temos dados para todos os meses desse ano. Se tivermos o ano de 2018 completo, seria a opção mais interessante para trabalhar."
   ]
  },
  {
   "cell_type": "code",
   "execution_count": 43,
   "metadata": {},
   "outputs": [],
   "source": [
    "crimes_meses2018=crimesB2[crimesB2['YEAR']==2018]"
   ]
  },
  {
   "cell_type": "code",
   "execution_count": 44,
   "metadata": {},
   "outputs": [
    {
     "data": {
      "text/plain": [
       "<BarContainer object of 12 artists>"
      ]
     },
     "execution_count": 44,
     "metadata": {},
     "output_type": "execute_result"
    },
    {
     "data": {
      "image/png": "[encoded data removed]",
      "text/plain": [
       "<Figure size 720x360 with 1 Axes>"
      ]
     },
     "metadata": {
      "needs_background": "light"
     },
     "output_type": "display_data"
    }
   ],
   "source": [
    "conta_meses2018=[]\n",
    "for mes in meses:\n",
    "    conta_meses2018.append(crimes_meses2018[crimes_meses2018['MONTH']==mes].count()['ID'])\n",
    "plt.figure(figsize=(10,5))\n",
    "plt.xticks(list(range(1,13)))\n",
    "plt.bar(meses,conta_meses2018)"
   ]
  },
  {
   "cell_type": "markdown",
   "metadata": {},
   "source": [
    "Infelizmente não temos todos os dados de 2018 e a quantidade de dados dos anos anteriores não é significativa para uma análise adequada. \n",
    "<br>Trabalharemos apenas com os dados de 2018 e para os meses que estão disponíveis."
   ]
  },
  {
   "cell_type": "markdown",
   "metadata": {},
   "source": [
    "### Análises e Conclusões"
   ]
  },
  {
   "cell_type": "code",
   "execution_count": 45,
   "metadata": {},
   "outputs": [],
   "source": [
    "crimesB2 = crimesB2[crimesB2['YEAR']==2018]"
   ]
  },
  {
   "cell_type": "code",
   "execution_count": 46,
   "metadata": {},
   "outputs": [
    {
     "data": {
      "text/html": [
       "<div>\n",
       "<style scoped>\n",
       "    .dataframe tbody tr th:only-of-type {\n",
       "        vertical-align: middle;\n",
       "    }\n",
       "\n",
       "    .dataframe tbody tr th {\n",
       "        vertical-align: top;\n",
       "    }\n",
       "\n",
       "    .dataframe thead th {\n",
       "        text-align: right;\n",
       "    }\n",
       "</style>\n",
       "<table border=\"1\" class=\"dataframe\">\n",
       "  <thead>\n",
       "    <tr style=\"text-align: right;\">\n",
       "      <th></th>\n",
       "      <th>OFFENSE_CODE</th>\n",
       "      <th>YEAR</th>\n",
       "      <th>MONTH</th>\n",
       "      <th>HOUR</th>\n",
       "      <th>Lat</th>\n",
       "      <th>Long</th>\n",
       "      <th>ID</th>\n",
       "    </tr>\n",
       "  </thead>\n",
       "  <tbody>\n",
       "    <tr>\n",
       "      <th>count</th>\n",
       "      <td>9039.000000</td>\n",
       "      <td>9039.0</td>\n",
       "      <td>9039.000000</td>\n",
       "      <td>9039.000000</td>\n",
       "      <td>9039.000000</td>\n",
       "      <td>9039.000000</td>\n",
       "      <td>9039.000000</td>\n",
       "    </tr>\n",
       "    <tr>\n",
       "      <th>mean</th>\n",
       "      <td>2374.784158</td>\n",
       "      <td>2018.0</td>\n",
       "      <td>4.683040</td>\n",
       "      <td>13.236531</td>\n",
       "      <td>42.321579</td>\n",
       "      <td>-71.084321</td>\n",
       "      <td>32899.972895</td>\n",
       "    </tr>\n",
       "    <tr>\n",
       "      <th>std</th>\n",
       "      <td>1155.714056</td>\n",
       "      <td>0.0</td>\n",
       "      <td>2.281353</td>\n",
       "      <td>6.287079</td>\n",
       "      <td>0.009069</td>\n",
       "      <td>0.010384</td>\n",
       "      <td>18866.250535</td>\n",
       "    </tr>\n",
       "    <tr>\n",
       "      <th>min</th>\n",
       "      <td>111.000000</td>\n",
       "      <td>2018.0</td>\n",
       "      <td>1.000000</td>\n",
       "      <td>0.000000</td>\n",
       "      <td>42.283405</td>\n",
       "      <td>-71.112843</td>\n",
       "      <td>7.000000</td>\n",
       "    </tr>\n",
       "    <tr>\n",
       "      <th>25%</th>\n",
       "      <td>1107.000000</td>\n",
       "      <td>2018.0</td>\n",
       "      <td>3.000000</td>\n",
       "      <td>9.000000</td>\n",
       "      <td>42.314278</td>\n",
       "      <td>-71.090429</td>\n",
       "      <td>16620.000000</td>\n",
       "    </tr>\n",
       "    <tr>\n",
       "      <th>50%</th>\n",
       "      <td>3001.000000</td>\n",
       "      <td>2018.0</td>\n",
       "      <td>5.000000</td>\n",
       "      <td>14.000000</td>\n",
       "      <td>42.321300</td>\n",
       "      <td>-71.083592</td>\n",
       "      <td>33191.000000</td>\n",
       "    </tr>\n",
       "    <tr>\n",
       "      <th>75%</th>\n",
       "      <td>3208.000000</td>\n",
       "      <td>2018.0</td>\n",
       "      <td>7.000000</td>\n",
       "      <td>18.000000</td>\n",
       "      <td>42.329298</td>\n",
       "      <td>-71.077246</td>\n",
       "      <td>49086.000000</td>\n",
       "    </tr>\n",
       "    <tr>\n",
       "      <th>max</th>\n",
       "      <td>3831.000000</td>\n",
       "      <td>2018.0</td>\n",
       "      <td>9.000000</td>\n",
       "      <td>23.000000</td>\n",
       "      <td>42.392146</td>\n",
       "      <td>-71.008939</td>\n",
       "      <td>65523.000000</td>\n",
       "    </tr>\n",
       "  </tbody>\n",
       "</table>\n",
       "</div>"
      ],
      "text/plain": [
       "       OFFENSE_CODE    YEAR        MONTH         HOUR          Lat  \\\n",
       "count   9039.000000  9039.0  9039.000000  9039.000000  9039.000000   \n",
       "mean    2374.784158  2018.0     4.683040    13.236531    42.321579   \n",
       "std     1155.714056     0.0     2.281353     6.287079     0.009069   \n",
       "min      111.000000  2018.0     1.000000     0.000000    42.283405   \n",
       "25%     1107.000000  2018.0     3.000000     9.000000    42.314278   \n",
       "50%     3001.000000  2018.0     5.000000    14.000000    42.321300   \n",
       "75%     3208.000000  2018.0     7.000000    18.000000    42.329298   \n",
       "max     3831.000000  2018.0     9.000000    23.000000    42.392146   \n",
       "\n",
       "              Long            ID  \n",
       "count  9039.000000   9039.000000  \n",
       "mean    -71.084321  32899.972895  \n",
       "std       0.010384  18866.250535  \n",
       "min     -71.112843      7.000000  \n",
       "25%     -71.090429  16620.000000  \n",
       "50%     -71.083592  33191.000000  \n",
       "75%     -71.077246  49086.000000  \n",
       "max     -71.008939  65523.000000  "
      ]
     },
     "execution_count": 46,
     "metadata": {},
     "output_type": "execute_result"
    }
   ],
   "source": [
    "crimesB2.describe()"
   ]
  },
  {
   "cell_type": "markdown",
   "metadata": {},
   "source": [
    "Vamos verificar a média de crimes por mês e fazer testes de hipóteses para entender melhor em quais meses a diferença na quantidade de crimes é estatísticamente significativa."
   ]
  },
  {
   "cell_type": "code",
   "execution_count": 47,
   "metadata": {},
   "outputs": [],
   "source": [
    "mes=pd.DataFrame({'Mes':meses, 'Total':conta_meses2018})"
   ]
  },
  {
   "cell_type": "code",
   "execution_count": 48,
   "metadata": {},
   "outputs": [
    {
     "data": {
      "text/html": [
       "<div>\n",
       "<style scoped>\n",
       "    .dataframe tbody tr th:only-of-type {\n",
       "        vertical-align: middle;\n",
       "    }\n",
       "\n",
       "    .dataframe tbody tr th {\n",
       "        vertical-align: top;\n",
       "    }\n",
       "\n",
       "    .dataframe thead th {\n",
       "        text-align: right;\n",
       "    }\n",
       "</style>\n",
       "<table border=\"1\" class=\"dataframe\">\n",
       "  <thead>\n",
       "    <tr style=\"text-align: right;\">\n",
       "      <th></th>\n",
       "      <th>Mes</th>\n",
       "      <th>Total</th>\n",
       "    </tr>\n",
       "  </thead>\n",
       "  <tbody>\n",
       "    <tr>\n",
       "      <th>count</th>\n",
       "      <td>12.000000</td>\n",
       "      <td>12.000000</td>\n",
       "    </tr>\n",
       "    <tr>\n",
       "      <th>mean</th>\n",
       "      <td>6.500000</td>\n",
       "      <td>753.250000</td>\n",
       "    </tr>\n",
       "    <tr>\n",
       "      <th>std</th>\n",
       "      <td>3.605551</td>\n",
       "      <td>544.332473</td>\n",
       "    </tr>\n",
       "    <tr>\n",
       "      <th>min</th>\n",
       "      <td>1.000000</td>\n",
       "      <td>0.000000</td>\n",
       "    </tr>\n",
       "    <tr>\n",
       "      <th>25%</th>\n",
       "      <td>3.750000</td>\n",
       "      <td>73.500000</td>\n",
       "    </tr>\n",
       "    <tr>\n",
       "      <th>50%</th>\n",
       "      <td>6.500000</td>\n",
       "      <td>1056.000000</td>\n",
       "    </tr>\n",
       "    <tr>\n",
       "      <th>75%</th>\n",
       "      <td>9.250000</td>\n",
       "      <td>1142.000000</td>\n",
       "    </tr>\n",
       "    <tr>\n",
       "      <th>max</th>\n",
       "      <td>12.000000</td>\n",
       "      <td>1246.000000</td>\n",
       "    </tr>\n",
       "  </tbody>\n",
       "</table>\n",
       "</div>"
      ],
      "text/plain": [
       "             Mes        Total\n",
       "count  12.000000    12.000000\n",
       "mean    6.500000   753.250000\n",
       "std     3.605551   544.332473\n",
       "min     1.000000     0.000000\n",
       "25%     3.750000    73.500000\n",
       "50%     6.500000  1056.000000\n",
       "75%     9.250000  1142.000000\n",
       "max    12.000000  1246.000000"
      ]
     },
     "execution_count": 48,
     "metadata": {},
     "output_type": "execute_result"
    }
   ],
   "source": [
    "mes.describe()"
   ]
  },
  {
   "cell_type": "code",
   "execution_count": 49,
   "metadata": {},
   "outputs": [
    {
     "data": {
      "text/html": [
       "<div>\n",
       "<style scoped>\n",
       "    .dataframe tbody tr th:only-of-type {\n",
       "        vertical-align: middle;\n",
       "    }\n",
       "\n",
       "    .dataframe tbody tr th {\n",
       "        vertical-align: top;\n",
       "    }\n",
       "\n",
       "    .dataframe thead th {\n",
       "        text-align: right;\n",
       "    }\n",
       "</style>\n",
       "<table border=\"1\" class=\"dataframe\">\n",
       "  <thead>\n",
       "    <tr style=\"text-align: right;\">\n",
       "      <th></th>\n",
       "      <th>Mes</th>\n",
       "      <th>Total</th>\n",
       "    </tr>\n",
       "  </thead>\n",
       "  <tbody>\n",
       "    <tr>\n",
       "      <th>0</th>\n",
       "      <td>1</td>\n",
       "      <td>1012</td>\n",
       "    </tr>\n",
       "    <tr>\n",
       "      <th>1</th>\n",
       "      <td>2</td>\n",
       "      <td>954</td>\n",
       "    </tr>\n",
       "    <tr>\n",
       "      <th>2</th>\n",
       "      <td>3</td>\n",
       "      <td>1100</td>\n",
       "    </tr>\n",
       "    <tr>\n",
       "      <th>3</th>\n",
       "      <td>4</td>\n",
       "      <td>1127</td>\n",
       "    </tr>\n",
       "    <tr>\n",
       "      <th>4</th>\n",
       "      <td>5</td>\n",
       "      <td>1195</td>\n",
       "    </tr>\n",
       "    <tr>\n",
       "      <th>5</th>\n",
       "      <td>6</td>\n",
       "      <td>1246</td>\n",
       "    </tr>\n",
       "    <tr>\n",
       "      <th>6</th>\n",
       "      <td>7</td>\n",
       "      <td>1187</td>\n",
       "    </tr>\n",
       "    <tr>\n",
       "      <th>7</th>\n",
       "      <td>8</td>\n",
       "      <td>1120</td>\n",
       "    </tr>\n",
       "    <tr>\n",
       "      <th>8</th>\n",
       "      <td>9</td>\n",
       "      <td>98</td>\n",
       "    </tr>\n",
       "    <tr>\n",
       "      <th>9</th>\n",
       "      <td>10</td>\n",
       "      <td>0</td>\n",
       "    </tr>\n",
       "    <tr>\n",
       "      <th>10</th>\n",
       "      <td>11</td>\n",
       "      <td>0</td>\n",
       "    </tr>\n",
       "    <tr>\n",
       "      <th>11</th>\n",
       "      <td>12</td>\n",
       "      <td>0</td>\n",
       "    </tr>\n",
       "  </tbody>\n",
       "</table>\n",
       "</div>"
      ],
      "text/plain": [
       "    Mes  Total\n",
       "0     1   1012\n",
       "1     2    954\n",
       "2     3   1100\n",
       "3     4   1127\n",
       "4     5   1195\n",
       "5     6   1246\n",
       "6     7   1187\n",
       "7     8   1120\n",
       "8     9     98\n",
       "9    10      0\n",
       "10   11      0\n",
       "11   12      0"
      ]
     },
     "execution_count": 49,
     "metadata": {},
     "output_type": "execute_result"
    }
   ],
   "source": [
    "mes"
   ]
  },
  {
   "cell_type": "markdown",
   "metadata": {},
   "source": [
    "Há um ponto importante neste caso. Quando solicitamos essa média, ela é calculada utilizando os valores de todos os meses. Vamos remover os últimos 4 meses para ter uma média mais coerente. "
   ]
  },
  {
   "cell_type": "code",
   "execution_count": 50,
   "metadata": {},
   "outputs": [
    {
     "data": {
      "text/html": [
       "<div>\n",
       "<style scoped>\n",
       "    .dataframe tbody tr th:only-of-type {\n",
       "        vertical-align: middle;\n",
       "    }\n",
       "\n",
       "    .dataframe tbody tr th {\n",
       "        vertical-align: top;\n",
       "    }\n",
       "\n",
       "    .dataframe thead th {\n",
       "        text-align: right;\n",
       "    }\n",
       "</style>\n",
       "<table border=\"1\" class=\"dataframe\">\n",
       "  <thead>\n",
       "    <tr style=\"text-align: right;\">\n",
       "      <th></th>\n",
       "      <th>Mes</th>\n",
       "      <th>Total</th>\n",
       "    </tr>\n",
       "  </thead>\n",
       "  <tbody>\n",
       "    <tr>\n",
       "      <th>count</th>\n",
       "      <td>8.00000</td>\n",
       "      <td>8.000000</td>\n",
       "    </tr>\n",
       "    <tr>\n",
       "      <th>mean</th>\n",
       "      <td>4.50000</td>\n",
       "      <td>1117.625000</td>\n",
       "    </tr>\n",
       "    <tr>\n",
       "      <th>std</th>\n",
       "      <td>2.44949</td>\n",
       "      <td>96.816376</td>\n",
       "    </tr>\n",
       "    <tr>\n",
       "      <th>min</th>\n",
       "      <td>1.00000</td>\n",
       "      <td>954.000000</td>\n",
       "    </tr>\n",
       "    <tr>\n",
       "      <th>25%</th>\n",
       "      <td>2.75000</td>\n",
       "      <td>1078.000000</td>\n",
       "    </tr>\n",
       "    <tr>\n",
       "      <th>50%</th>\n",
       "      <td>4.50000</td>\n",
       "      <td>1123.500000</td>\n",
       "    </tr>\n",
       "    <tr>\n",
       "      <th>75%</th>\n",
       "      <td>6.25000</td>\n",
       "      <td>1189.000000</td>\n",
       "    </tr>\n",
       "    <tr>\n",
       "      <th>max</th>\n",
       "      <td>8.00000</td>\n",
       "      <td>1246.000000</td>\n",
       "    </tr>\n",
       "  </tbody>\n",
       "</table>\n",
       "</div>"
      ],
      "text/plain": [
       "           Mes        Total\n",
       "count  8.00000     8.000000\n",
       "mean   4.50000  1117.625000\n",
       "std    2.44949    96.816376\n",
       "min    1.00000   954.000000\n",
       "25%    2.75000  1078.000000\n",
       "50%    4.50000  1123.500000\n",
       "75%    6.25000  1189.000000\n",
       "max    8.00000  1246.000000"
      ]
     },
     "execution_count": 50,
     "metadata": {},
     "output_type": "execute_result"
    }
   ],
   "source": [
    "mes.loc[:7,:].describe()"
   ]
  },
  {
   "cell_type": "markdown",
   "metadata": {},
   "source": [
    "Vemos que a média de crimes por mês é 1118 e o total de crimes 9039. Vamos fazer os testes de hipóteses."
   ]
  },
  {
   "cell_type": "code",
   "execution_count": 51,
   "metadata": {},
   "outputs": [
    {
     "name": "stdout",
     "output_type": "stream",
     "text": [
      "A diferença da média de 1 É significativa.\n",
      "A diferença da média de 2 É significativa.\n",
      "A diferença da média de 3 NÃO É significativa.\n",
      "A diferença da média de 4 NÃO É significativa.\n",
      "A diferença da média de 5 É significativa.\n",
      "A diferença da média de 6 É significativa.\n",
      "A diferença da média de 7 É significativa.\n",
      "A diferença da média de 8 NÃO É significativa.\n"
     ]
    }
   ],
   "source": [
    "contador=0\n",
    "for i_mes in mes['Total']:\n",
    "    count = i_mes\n",
    "    nobs = 9039\n",
    "    value = 1118/9039\n",
    "    stat, pval = proportions_ztest(count, nobs, value, alternative='two-sided')\n",
    "    if pval > 0.05:\n",
    "        print(\"A diferença da média de {} NÃO É significativa.\".format(mes['Mes'][contador]))\n",
    "    elif pval <0.05:\n",
    "        print(\"A diferença da média de {} É significativa.\".format(mes['Mes'][contador]))\n",
    "    contador+=1\n",
    "    if contador == 8:\n",
    "        break"
   ]
  },
  {
   "cell_type": "markdown",
   "metadata": {},
   "source": [
    "Podemos verificar que as médias dos meses 1 e 2 são significativamente menores que a média de crimes mensal e as médias dos meses 5, 6 e 7 são significativamente maiores."
   ]
  },
  {
   "cell_type": "code",
   "execution_count": 52,
   "metadata": {},
   "outputs": [
    {
     "data": {
      "text/plain": [
       "<matplotlib.collections.LineCollection at 0x1662cc105c8>"
      ]
     },
     "execution_count": 52,
     "metadata": {},
     "output_type": "execute_result"
    },
    {
     "data": {
      "image/png": "[encoded data removed]",
      "text/plain": [
       "<Figure size 720x360 with 1 Axes>"
      ]
     },
     "metadata": {
      "needs_background": "light"
     },
     "output_type": "display_data"
    }
   ],
   "source": [
    "plt.figure(figsize=(10,5))\n",
    "plt.xticks(list(range(1,13)))\n",
    "plt.bar(meses,conta_meses2018)\n",
    "plt.hlines(1118,0,12, linestyles='dotted')"
   ]
  },
  {
   "cell_type": "markdown",
   "metadata": {},
   "source": [
    "Vamos ver agora como são distribuidas as ocorrências por dia da semana."
   ]
  },
  {
   "cell_type": "markdown",
   "metadata": {},
   "source": [
    "Neste ponto, faremos a contagem de ocorrências por dia da semana."
   ]
  },
  {
   "cell_type": "code",
   "execution_count": 53,
   "metadata": {},
   "outputs": [],
   "source": [
    "dias=['Sunday','Monday','Tuesday','Wednesday','Thursday', 'Friday', 'Saturday']\n",
    "conta_dia=[]\n",
    "for dia in dias:\n",
    "    conta_dia.append(crimesB2[crimesB2['DAY_OF_WEEK']==dia].count()['ID'])"
   ]
  },
  {
   "cell_type": "code",
   "execution_count": 54,
   "metadata": {},
   "outputs": [],
   "source": [
    "hist_dia = pd.DataFrame({'Total':conta_dia,'DiaSemana':dias})\n",
    "hist_dia['DiaPt']=['Domingo','Segunda-feira','Terça-feira','Quarta-feira','Quinta-feira','Sexta-feira','Sábado']"
   ]
  },
  {
   "cell_type": "code",
   "execution_count": 55,
   "metadata": {
    "scrolled": true
   },
   "outputs": [
    {
     "data": {
      "text/html": [
       "<div>\n",
       "<style scoped>\n",
       "    .dataframe tbody tr th:only-of-type {\n",
       "        vertical-align: middle;\n",
       "    }\n",
       "\n",
       "    .dataframe tbody tr th {\n",
       "        vertical-align: top;\n",
       "    }\n",
       "\n",
       "    .dataframe thead th {\n",
       "        text-align: right;\n",
       "    }\n",
       "</style>\n",
       "<table border=\"1\" class=\"dataframe\">\n",
       "  <thead>\n",
       "    <tr style=\"text-align: right;\">\n",
       "      <th></th>\n",
       "      <th>Total</th>\n",
       "      <th>DiaSemana</th>\n",
       "      <th>DiaPt</th>\n",
       "    </tr>\n",
       "  </thead>\n",
       "  <tbody>\n",
       "    <tr>\n",
       "      <th>0</th>\n",
       "      <td>1082</td>\n",
       "      <td>Sunday</td>\n",
       "      <td>Domingo</td>\n",
       "    </tr>\n",
       "    <tr>\n",
       "      <th>1</th>\n",
       "      <td>1289</td>\n",
       "      <td>Monday</td>\n",
       "      <td>Segunda-feira</td>\n",
       "    </tr>\n",
       "    <tr>\n",
       "      <th>2</th>\n",
       "      <td>1296</td>\n",
       "      <td>Tuesday</td>\n",
       "      <td>Terça-feira</td>\n",
       "    </tr>\n",
       "    <tr>\n",
       "      <th>3</th>\n",
       "      <td>1391</td>\n",
       "      <td>Wednesday</td>\n",
       "      <td>Quarta-feira</td>\n",
       "    </tr>\n",
       "    <tr>\n",
       "      <th>4</th>\n",
       "      <td>1322</td>\n",
       "      <td>Thursday</td>\n",
       "      <td>Quinta-feira</td>\n",
       "    </tr>\n",
       "    <tr>\n",
       "      <th>5</th>\n",
       "      <td>1407</td>\n",
       "      <td>Friday</td>\n",
       "      <td>Sexta-feira</td>\n",
       "    </tr>\n",
       "    <tr>\n",
       "      <th>6</th>\n",
       "      <td>1252</td>\n",
       "      <td>Saturday</td>\n",
       "      <td>Sábado</td>\n",
       "    </tr>\n",
       "  </tbody>\n",
       "</table>\n",
       "</div>"
      ],
      "text/plain": [
       "   Total  DiaSemana          DiaPt\n",
       "0   1082     Sunday        Domingo\n",
       "1   1289     Monday  Segunda-feira\n",
       "2   1296    Tuesday    Terça-feira\n",
       "3   1391  Wednesday   Quarta-feira\n",
       "4   1322   Thursday   Quinta-feira\n",
       "5   1407     Friday    Sexta-feira\n",
       "6   1252   Saturday         Sábado"
      ]
     },
     "execution_count": 55,
     "metadata": {},
     "output_type": "execute_result"
    }
   ],
   "source": [
    "hist_dia"
   ]
  },
  {
   "cell_type": "code",
   "execution_count": 56,
   "metadata": {},
   "outputs": [
    {
     "data": {
      "text/plain": [
       "<BarContainer object of 7 artists>"
      ]
     },
     "execution_count": 56,
     "metadata": {},
     "output_type": "execute_result"
    },
    {
     "data": {
      "image/png": "[encoded data removed]",
      "text/plain": [
       "<Figure size 720x360 with 1 Axes>"
      ]
     },
     "metadata": {
      "needs_background": "light"
     },
     "output_type": "display_data"
    }
   ],
   "source": [
    "plt.figure(figsize=(10,5))\n",
    "plt.bar(hist_dia['DiaPt'],conta_dia)"
   ]
  },
  {
   "cell_type": "code",
   "execution_count": 57,
   "metadata": {},
   "outputs": [
    {
     "name": "stdout",
     "output_type": "stream",
     "text": [
      "Total                                                     9039\n",
      "DiaSemana    SundayMondayTuesdayWednesdayThursdayFridaySatu...\n",
      "DiaPt        DomingoSegunda-feiraTerça-feiraQuarta-feiraQui...\n",
      "dtype: object\n"
     ]
    },
    {
     "data": {
      "text/html": [
       "<div>\n",
       "<style scoped>\n",
       "    .dataframe tbody tr th:only-of-type {\n",
       "        vertical-align: middle;\n",
       "    }\n",
       "\n",
       "    .dataframe tbody tr th {\n",
       "        vertical-align: top;\n",
       "    }\n",
       "\n",
       "    .dataframe thead th {\n",
       "        text-align: right;\n",
       "    }\n",
       "</style>\n",
       "<table border=\"1\" class=\"dataframe\">\n",
       "  <thead>\n",
       "    <tr style=\"text-align: right;\">\n",
       "      <th></th>\n",
       "      <th>Total</th>\n",
       "    </tr>\n",
       "  </thead>\n",
       "  <tbody>\n",
       "    <tr>\n",
       "      <th>count</th>\n",
       "      <td>7.000000</td>\n",
       "    </tr>\n",
       "    <tr>\n",
       "      <th>mean</th>\n",
       "      <td>1291.285714</td>\n",
       "    </tr>\n",
       "    <tr>\n",
       "      <th>std</th>\n",
       "      <td>107.739987</td>\n",
       "    </tr>\n",
       "    <tr>\n",
       "      <th>min</th>\n",
       "      <td>1082.000000</td>\n",
       "    </tr>\n",
       "    <tr>\n",
       "      <th>25%</th>\n",
       "      <td>1270.500000</td>\n",
       "    </tr>\n",
       "    <tr>\n",
       "      <th>50%</th>\n",
       "      <td>1296.000000</td>\n",
       "    </tr>\n",
       "    <tr>\n",
       "      <th>75%</th>\n",
       "      <td>1356.500000</td>\n",
       "    </tr>\n",
       "    <tr>\n",
       "      <th>max</th>\n",
       "      <td>1407.000000</td>\n",
       "    </tr>\n",
       "  </tbody>\n",
       "</table>\n",
       "</div>"
      ],
      "text/plain": [
       "             Total\n",
       "count     7.000000\n",
       "mean   1291.285714\n",
       "std     107.739987\n",
       "min    1082.000000\n",
       "25%    1270.500000\n",
       "50%    1296.000000\n",
       "75%    1356.500000\n",
       "max    1407.000000"
      ]
     },
     "execution_count": 57,
     "metadata": {},
     "output_type": "execute_result"
    }
   ],
   "source": [
    "print(hist_dia.sum())\n",
    "hist_dia.describe()"
   ]
  },
  {
   "cell_type": "markdown",
   "metadata": {},
   "source": [
    "A média da amostra é 1291 crimes. Vamos realizar testes de hipóteses para verificar se a média de crimes em um determinado dia da semana é significativamente diferente dos demais. Vamos realizar o teste bi-caudal para nos trazer o resultado se a média é diferente ou não."
   ]
  },
  {
   "cell_type": "code",
   "execution_count": 58,
   "metadata": {},
   "outputs": [
    {
     "name": "stdout",
     "output_type": "stream",
     "text": [
      "A diferença da média de Domingo É significativa.\n",
      "A diferença da média de Segunda-feira NÃO É significativa.\n",
      "A diferença da média de Terça-feira NÃO É significativa.\n",
      "A diferença da média de Quarta-feira É significativa.\n",
      "A diferença da média de Quinta-feira NÃO É significativa.\n",
      "A diferença da média de Sexta-feira É significativa.\n",
      "A diferença da média de Sábado NÃO É significativa.\n"
     ]
    }
   ],
   "source": [
    "contador=0\n",
    "for dia in hist_dia['Total']:\n",
    "    count = dia\n",
    "    nobs = 9039\n",
    "    value = 1291/9039\n",
    "    stat, pval = proportions_ztest(count, nobs, value, alternative='two-sided')\n",
    "    if pval > 0.05:\n",
    "        print(\"A diferença da média de {} NÃO É significativa.\".format(hist_dia['DiaPt'][contador]))\n",
    "    elif pval <0.05:\n",
    "        print(\"A diferença da média de {} É significativa.\".format(hist_dia['DiaPt'][contador]))\n",
    "    contador+=1"
   ]
  },
  {
   "cell_type": "markdown",
   "metadata": {},
   "source": [
    "Portanto, podemos concluir que no domingo, na quarta-feira e na sexta-feira, existe diferença significativa na média de ocorrências. Observando os dados, vemos que no domingo a média é significativamente menor e na quarta-feira e na sexta-feira as médias são maiores. "
   ]
  },
  {
   "cell_type": "code",
   "execution_count": 59,
   "metadata": {},
   "outputs": [
    {
     "data": {
      "text/plain": [
       "<matplotlib.lines.Line2D at 0x1662cbde308>"
      ]
     },
     "execution_count": 59,
     "metadata": {},
     "output_type": "execute_result"
    },
    {
     "data": {
      "image/png": "[encoded data removed]",
      "text/plain": [
       "<Figure size 720x360 with 1 Axes>"
      ]
     },
     "metadata": {
      "needs_background": "light"
     },
     "output_type": "display_data"
    }
   ],
   "source": [
    "plt.figure(figsize=(10,5))\n",
    "plt.bar(hist_dia['DiaPt'],conta_dia)\n",
    "plt.axhline(1291, linestyle=('--'), color='black')"
   ]
  },
  {
   "cell_type": "markdown",
   "metadata": {},
   "source": [
    "Vamos agora separar os horários que os crimes ocorreram em cada dia."
   ]
  },
  {
   "cell_type": "markdown",
   "metadata": {},
   "source": [
    "Separando os dados pelos dias em que ocorreram temos:"
   ]
  },
  {
   "cell_type": "code",
   "execution_count": 60,
   "metadata": {},
   "outputs": [],
   "source": [
    "dados_domingo=crimesB2[crimesB2['DAY_OF_WEEK']=='Sunday']\n",
    "dados_segunda=crimesB2[crimesB2['DAY_OF_WEEK']=='Monday']\n",
    "dados_terca=crimesB2[crimesB2['DAY_OF_WEEK']=='Tuesday']\n",
    "dados_quarta=crimesB2[crimesB2['DAY_OF_WEEK']=='Wednesday']\n",
    "dados_quinta=crimesB2[crimesB2['DAY_OF_WEEK']=='Thursday']\n",
    "dados_sexta=crimesB2[crimesB2['DAY_OF_WEEK']=='Friday']\n",
    "dados_sabado=crimesB2[crimesB2['DAY_OF_WEEK']=='Saturday']"
   ]
  },
  {
   "cell_type": "markdown",
   "metadata": {},
   "source": [
    "Dessa forma, podemos verificar a distribuição dos horários das ocorrências pelos dias da semana. Os gráficos estão na mesma escala para facilitar a comparação."
   ]
  },
  {
   "cell_type": "code",
   "execution_count": 61,
   "metadata": {},
   "outputs": [
    {
     "data": {
      "text/plain": [
       "(0.0, 130.0)"
      ]
     },
     "execution_count": 61,
     "metadata": {},
     "output_type": "execute_result"
    },
    {
     "data": {
      "image/png": "[encoded data removed]",
      "text/plain": [
       "<Figure size 2160x1080 with 7 Axes>"
      ]
     },
     "metadata": {
      "needs_background": "light"
     },
     "output_type": "display_data"
    }
   ],
   "source": [
    "fig =  plt.figure(figsize=(30,15))\n",
    "fig.subplots_adjust(hspace=0.4, wspace=0.4)\n",
    "plt.subplot(2,4,1)\n",
    "num_bins = 24\n",
    "n, bins, patches = plt.hist(dados_domingo['HOUR'], num_bins, facecolor='darkblue', alpha=0.5)\n",
    "plt.title('Domingo')\n",
    "plt.ylim(0,130)\n",
    "plt.subplot(2,4,2)\n",
    "n, bins, patches = plt.hist(dados_segunda['HOUR'], num_bins, facecolor='darkblue', alpha=0.5)\n",
    "plt.title('Segunda-feira')\n",
    "plt.ylim(0,130)\n",
    "plt.subplot(2,4,3)\n",
    "n, bins, patches = plt.hist(dados_terca['HOUR'], num_bins, facecolor='darkblue', alpha=0.5)\n",
    "plt.title('Terça-feira')\n",
    "plt.ylim(0,130)\n",
    "plt.subplot(2,4,4)\n",
    "n, bins, patches = plt.hist(dados_quarta['HOUR'], num_bins, facecolor='darkblue', alpha=0.5)\n",
    "plt.title('Quarta-feira')\n",
    "plt.ylim(0,130)\n",
    "plt.subplot(2,4,5)\n",
    "n, bins, patches = plt.hist(dados_quinta['HOUR'], num_bins, facecolor='darkblue', alpha=0.5)\n",
    "plt.title('Quinta-feira')\n",
    "plt.ylim(0,130)\n",
    "plt.subplot(2,4,6)\n",
    "n, bins, patches = plt.hist(dados_sexta['HOUR'], num_bins, facecolor='darkblue', alpha=0.5)\n",
    "plt.title('Sexta-feira')\n",
    "plt.ylim(0,130)\n",
    "plt.subplot(2,4,7)\n",
    "n, bins, patches = plt.hist(dados_sabado['HOUR'], num_bins, facecolor='darkblue', alpha=0.5)\n",
    "plt.title('Sábado')\n",
    "plt.ylim(0,130)"
   ]
  },
  {
   "cell_type": "markdown",
   "metadata": {},
   "source": [
    "Podemos verificar alguns pontos interessantes:\n",
    "- No geral, as ocorrências se concentram das 8:00 às 00:00 com o pico por volta das 15:00."
   ]
  },
  {
   "cell_type": "markdown",
   "metadata": {},
   "source": [
    "Vendo algumas semelhanças mais específicas:\n",
    "- No domingo, as ocorrências são menores durante o dia, mas maiores durante a madrugada de sábado para domingo.\n",
    "- No sábado vemos um efeito parecido com o domingo, com muitos casos na madrugada de sexta-feira para sábado.\n",
    "- Vemos um aumento também na sexta-feira a noite."
   ]
  },
  {
   "cell_type": "markdown",
   "metadata": {},
   "source": [
    "Isso nos leva a crer que nos fins de semana as pessoas saem mais a noite e podem ter mais problemas."
   ]
  },
  {
   "cell_type": "markdown",
   "metadata": {},
   "source": [
    "Observando outro pontos interessantes:\n",
    "- Na quarta-feira há um número maior de acidentes, que vai até quinta-feira de manhã. Pode ser relacionado com eventos esportivos que podem acontecer nesse dia, como jogos de baseball, basquete ou hockey."
   ]
  }
 ],
 "metadata": {
  "kernelspec": {
   "display_name": "Python 3.7.7 64-bit",
   "language": "python",
   "name": "python37764bitec0a4132e37a49b68218b8c85ee67438"
  },
  "language_info": {
   "codemirror_mode": {
    "name": "ipython",
    "version": 3
   },
   "file_extension": ".py",
   "mimetype": "text/x-python",
   "name": "python",
   "nbconvert_exporter": "python",
   "pygments_lexer": "ipython3",
   "version": "3.7.7"
  }
 },
 "nbformat": 4,
 "nbformat_minor": 4
}
